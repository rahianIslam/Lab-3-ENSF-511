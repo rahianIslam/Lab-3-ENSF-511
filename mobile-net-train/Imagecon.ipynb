{
 "cells": [
  {
   "cell_type": "code",
   "execution_count": null,
   "id": "9a956bfc",
   "metadata": {},
   "outputs": [],
   "source": [
    "from PIL import Image\n",
    "\n",
    "foo = Image.open(r\"C:/Users/sadma/Lab2/Lab 3/MobileNet-samples/MobileNet-samples/train/bobcat\")\n",
    "foo.size()\n",
    "\n",
    "\n",
    "# I downsize the image with an ANTIALIAS filter (gives the highest quality)\n",
    "# foo = foo.resize((160,300),Image.ANTIALIAS)\n",
    "# foo.save(\"path\\\\to\\\\save\\\\image_scaled.jpg\",quality=95)\n",
    "#  # The saved downsized image size is 24.8kb\n",
    "# foo.save(\"path\\\\to\\\\save\\\\image_scaled_opt.jpg\",optimize=True,quality=95)\n",
    "\n"
   ]
  },
  {
   "cell_type": "code",
   "execution_count": null,
   "id": "de167524",
   "metadata": {},
   "outputs": [],
   "source": []
  }
 ],
 "metadata": {
  "kernelspec": {
   "display_name": "tf",
   "language": "python",
   "name": "tf"
  }
 },
 "nbformat": 4,
 "nbformat_minor": 5
}
